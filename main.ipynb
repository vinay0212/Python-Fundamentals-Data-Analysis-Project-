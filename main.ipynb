{
 "cells": [
  {
   "cell_type": "code",
   "execution_count": null,
   "id": "c154b1f0",
   "metadata": {},
   "outputs": [],
   "source": [
    "import numpy as np\n",
    "import pandas as pd\n",
    "#Importing necessary libraries."
   ]
  },
  {
   "cell_type": "markdown",
   "id": "cebd401b",
   "metadata": {},
   "source": [
    "# Task 1"
   ]
  },
  {
   "cell_type": "code",
   "execution_count": null,
   "id": "cc8712af",
   "metadata": {},
   "outputs": [
    {
     "name": "stdout",
     "output_type": "stream",
     "text": [
      "Three dataframes (project.csv, employee.csv, and seniority.csv) have been created and saved.\n"
     ]
    }
   ],
   "source": [
    "project_data = {\n",
    "    \"ID\": [\n",
    "#Performing a specific task based on the logic.\n",
    "        \"A001\",\n",
    "        \"A002\",\n",
    "        \"A003\",\n",
    "        \"A004\",\n",
    "        \"A005\",\n",
    "        \"A002\",\n",
    "        \"A005\",\n",
    "        \"A003\",\n",
    "        \"A001\",\n",
    "        \"A003\",\n",
    "        \"A001\",\n",
    "        \"A004\",\n",
    "        \"A004\",\n",
    "        \"A005\",\n",
    "\n",
    "    ],\n",
    "    \"Project\": [\n",
    "        \"Project 1\",\n",
    "        \"Project 2\",\n",
    "        \"Project 3\",\n",
    "        \"Project 4\",\n",
    "        \"Project 5\",\n",
    "        \"Project 6\",\n",
    "        \"Project 7\",\n",
    "        \"Project 8\",\n",
    "        \"Project 9\",\n",
    "        \"Project 10\",\n",
    "        \"Project 11\",\n",
    "        \"Project 12\",\n",
    "        \"Project 13\",\n",
    "        \"Project 14\",\n",
    "\n",
    "    ],\n",
    "    \"Cost\": [\n",
    "        1002000,\n",
    "        2000000,\n",
    "        4500000,\n",
    "        5500000,\n",
    "        np.nan,\n",
    "        680000,\n",
    "        400000,\n",
    "        350000,\n",
    "        np.nan,\n",
    "        300000,\n",
    "        2000000,\n",
    "        1000000,\n",
    "        3000000,\n",
    "        200000,\n",
    "    ],\n",
    "    \"Status\": [\n",
    "        \"Finished\",\n",
    "        \"Ongoing\",\n",
    "        \"Finished\",\n",
    "        \"Ongoing\",\n",
    "        \"Finished\",\n",
    "        \"Failed\",\n",
    "        \"Finished\",\n",
    "        \"Failed\",\n",
    "        \"Ongoing\",\n",
    "        \"Finished\",\n",
    "        \"Failed\",\n",
    "        \"Ongoing\",\n",
    "        \"Finished\",\n",
    "        \"Finished\",\n",
    "    ],\n",
    "}\n",
    "\n",
    "project_df = pd.DataFrame(project_data)\n",
    "project_df.to_csv(\"project.csv\", index=False)\n",
    "#Creating a DataFrame with specified data.\n",
    "\n",
    "employee_data = {\n",
    "    \"ID\": [\"A001\", \"A002\", \"A003\", \"A004\", \"A005\"],\n",
    "    \"Name\": [\n",
    "        \"John Alter\",\n",
    "        \"Alice Luxumberg\",\n",
    "        \"Tom Sabestine\",\n",
    "        \"Nina Adgra\",\n",
    "        \"Amy Johny\",\n",
    "    ],\n",
    "    \"Gender\": [\"M\", \"F\", \"M\", \"F\", \"F\"],\n",
    "    \"City\": [\"Paris\", \"London\", \"Berlin\", \"Newyork\", \"Madrid\"],\n",
    "    \"Age\": [25, 27, 29, 31, 30],\n",
    "}\n",
    "#Promoting employees older than 29.\n",
    "employee_df = pd.DataFrame(employee_data)\n",
    "employee_df.to_csv(\"employee.csv\", index=False)\n",
    "#Creating a DataFrame with specified data.\n",
    "\n",
    "seniority_data = {\n",
    "    \"ID\": [\"A001\", \"A002\", \"A003\", \"A004\", \"A005\"],\n",
    "    \"Designation Level\": [2, 2, 3, 2, 3],\n",
    "}\n",
    "seniority_df = pd.DataFrame(seniority_data)\n",
    "seniority_df.to_csv(\"seniority.csv\", index=False)\n",
    "\n",
    "#Saving the DataFrame to a CSV file.\n",
    "print(\n",
    "    \"Three dataframes (project.csv, employee.csv, and seniority.csv) have been created and saved.\"\n",
    ")\n"
   ]
  },
  {
   "cell_type": "markdown",
   "id": "7409bdc8",
   "metadata": {},
   "source": [
    "# Task 2"
   ]
  },
  {
   "cell_type": "code",
   "execution_count": null,
   "id": "3e2f9187",
   "metadata": {},
   "outputs": [
    {
     "name": "stdout",
     "output_type": "stream",
     "text": [
      "Missing 'Cost' values have been filled with the running average:\n",
      "     ID    Project       Cost    Status\n",
      "0  A001  Project 1  1002000.0  Finished\n",
      "1  A002  Project 2  2000000.0   Ongoing\n",
      "2  A003  Project 3  4500000.0  Finished\n",
      "3  A004  Project 4  5500000.0   Ongoing\n",
      "4  A005  Project 5  3250500.0  Finished\n"
     ]
    }
   ],
   "source": [
    "running_sum = 0\n",
    "count = 0\n",
    "for i, cost in enumerate(project_df[\"Cost\"]):\n",
    "    if pd.isna(cost):\n",
    "# Filling missing cost values using running average.\n",
    "        if count > 0:\n",
    "            project_df.at[i, \"Cost\"] = running_sum / count\n",
    "    else:\n",
    "        running_sum += cost\n",
    "        count += 1\n",
    "\n",
    "print(\"Missing 'Cost' values have been filled with the running average:\")\n",
    "print(project_df.head())"
   ]
  },
  {
   "cell_type": "markdown",
   "id": "c35c18cf",
   "metadata": {},
   "source": [
    "# Task 3"
   ]
  },
  {
   "cell_type": "code",
   "execution_count": null,
   "id": "a3b80607",
   "metadata": {},
   "outputs": [
    {
     "name": "stdout",
     "output_type": "stream",
     "text": [
      "The 'Name' column has been split into 'First Name' and 'Last Name':\n",
      "     ID Gender     City  Age First Name  Last Name\n",
      "0  A001      M    Paris   25       John      Alter\n",
      "1  A002      F   London   27      Alice  Luxumberg\n",
      "2  A003      M   Berlin   29        Tom  Sabestine\n",
      "3  A004      F  Newyork   31       Nina      Adgra\n",
      "4  A005      F   Madrid   30        Amy      Johny\n"
     ]
    }
   ],
   "source": [
    "employee_df[[\"First Name\", \"Last Name\"]] = employee_df[\"Name\"].str.split(\n",
    "    \" \", n=1, expand=True\n",
    "# Splitting the full name into first and last names.\n",
    ")\n",
    "\n",
    "# Performing a specific task based on the logic above.\n",
    "employee_df = employee_df.drop(columns=[\"Name\"])\n",
    "\n",
    "\n",
    "print(\"The 'Name' column has been split into 'First Name' and 'Last Name':\")\n",
    "print(employee_df)\n"
   ]
  },
  {
   "cell_type": "markdown",
   "id": "97747a41",
   "metadata": {},
   "source": [
    "# Task 4"
   ]
  },
  {
   "cell_type": "code",
   "execution_count": null,
   "id": "a0d0bcfd",
   "metadata": {},
   "outputs": [
    {
     "name": "stdout",
     "output_type": "stream",
     "text": [
      "The three dataframes have been merged into a single dataframe called 'Final':\n",
      "      ID     Project          Cost    Status Gender     City  Age First Name  \\\n",
      "0   A001   Project 1  1.002000e+06  Finished      M    Paris   25       John   \n",
      "1   A002   Project 2  2.000000e+06   Ongoing      F   London   27      Alice   \n",
      "2   A003   Project 3  4.500000e+06  Finished      M   Berlin   29        Tom   \n",
      "3   A004   Project 4  5.500000e+06   Ongoing      F  Newyork   31       Nina   \n",
      "4   A005   Project 5  3.250500e+06  Finished      F   Madrid   30        Amy   \n",
      "5   A002   Project 6  6.800000e+05    Failed      F   London   27      Alice   \n",
      "6   A005   Project 7  4.000000e+05  Finished      F   Madrid   30        Amy   \n",
      "7   A003   Project 8  3.500000e+05    Failed      M   Berlin   29        Tom   \n",
      "8   A001   Project 9  2.061714e+06   Ongoing      M    Paris   25       John   \n",
      "9   A003  Project 10  3.000000e+05  Finished      M   Berlin   29        Tom   \n",
      "10  A001  Project 11  2.000000e+06    Failed      M    Paris   25       John   \n",
      "11  A004  Project 12  1.000000e+06   Ongoing      F  Newyork   31       Nina   \n",
      "12  A004  Project 13  3.000000e+06  Finished      F  Newyork   31       Nina   \n",
      "13  A005  Project 14  2.000000e+05  Finished      F   Madrid   30        Amy   \n",
      "\n",
      "    Last Name  Designation Level  \n",
      "0       Alter                  2  \n",
      "1   Luxumberg                  2  \n",
      "2   Sabestine                  3  \n",
      "3       Adgra                  2  \n",
      "4       Johny                  3  \n",
      "5   Luxumberg                  2  \n",
      "6       Johny                  3  \n",
      "7   Sabestine                  3  \n",
      "8       Alter                  2  \n",
      "9   Sabestine                  3  \n",
      "10      Alter                  2  \n",
      "11      Adgra                  2  \n",
      "12      Adgra                  2  \n",
      "13      Johny                  3  \n"
     ]
    }
   ],
   "source": [
    "final_df = pd.merge(project_df, employee_df, on=\"ID\")\n",
    "final_df = pd.merge(final_df, seniority_df, on=\"ID\")\n",
    "# Explanation: Merging DataFrames to create a final combined DataFrame.\n",
    "\n",
    "print(\"The three dataframes have been merged into a single dataframe called 'Final':\")\n",
    "\n",
    "print(final_df)"
   ]
  },
  {
   "cell_type": "markdown",
   "id": "8407f2b4",
   "metadata": {},
   "source": [
    "# Task 5"
   ]
  },
  {
   "cell_type": "code",
   "execution_count": null,
   "id": "7844d840",
   "metadata": {},
   "outputs": [
    {
     "name": "stdout",
     "output_type": "stream",
     "text": [
      "A 'Bonus' column has been added to the 'Final' dataframe:\n",
      "      ID     Project          Cost    Status Gender     City  Age First Name  \\\n",
      "0   A001   Project 1  1.002000e+06  Finished      M    Paris   25       John   \n",
      "1   A002   Project 2  2.000000e+06   Ongoing      F   London   27      Alice   \n",
      "2   A003   Project 3  4.500000e+06  Finished      M   Berlin   29        Tom   \n",
      "3   A004   Project 4  5.500000e+06   Ongoing      F  Newyork   31       Nina   \n",
      "4   A005   Project 5  3.250500e+06  Finished      F   Madrid   30        Amy   \n",
      "5   A002   Project 6  6.800000e+05    Failed      F   London   27      Alice   \n",
      "6   A005   Project 7  4.000000e+05  Finished      F   Madrid   30        Amy   \n",
      "7   A003   Project 8  3.500000e+05    Failed      M   Berlin   29        Tom   \n",
      "8   A001   Project 9  2.061714e+06   Ongoing      M    Paris   25       John   \n",
      "9   A003  Project 10  3.000000e+05  Finished      M   Berlin   29        Tom   \n",
      "10  A001  Project 11  2.000000e+06    Failed      M    Paris   25       John   \n",
      "11  A004  Project 12  1.000000e+06   Ongoing      F  Newyork   31       Nina   \n",
      "12  A004  Project 13  3.000000e+06  Finished      F  Newyork   31       Nina   \n",
      "13  A005  Project 14  2.000000e+05  Finished      F   Madrid   30        Amy   \n",
      "\n",
      "    Last Name  Designation Level     Bonus  \n",
      "0       Alter                  2   50100.0  \n",
      "1   Luxumberg                  2       0.0  \n",
      "2   Sabestine                  3  225000.0  \n",
      "3       Adgra                  2       0.0  \n",
      "4       Johny                  3  162525.0  \n",
      "5   Luxumberg                  2       0.0  \n",
      "6       Johny                  3   20000.0  \n",
      "7   Sabestine                  3       0.0  \n",
      "8       Alter                  2       0.0  \n",
      "9   Sabestine                  3   15000.0  \n",
      "10      Alter                  2       0.0  \n",
      "11      Adgra                  2       0.0  \n",
      "12      Adgra                  2  150000.0  \n",
      "13      Johny                  3   10000.0  \n"
     ]
    }
   ],
   "source": [
    "final_df[\"Bonus\"] = final_df.apply(\n",
    "    lambda row: row[\"Cost\"] * 0.05 if row[\"Status\"] == \"Finished\" else 0, axis=1\n",
    "#Calculating bonus for finished projects.\n",
    ")\n",
    "\n",
    "\n",
    "print(\"A 'Bonus' column has been added to the 'Final' dataframe:\")\n",
    "print(final_df)\n"
   ]
  },
  {
   "cell_type": "markdown",
   "id": "338909e7",
   "metadata": {},
   "source": [
    "# Task 6"
   ]
  },
  {
   "cell_type": "code",
   "execution_count": null,
   "id": "1e82e682",
   "metadata": {},
   "outputs": [
    {
     "name": "stdout",
     "output_type": "stream",
     "text": [
      "Employees with failed projects have been demoted, and those with a designation level above 4 have been removed:\n",
      "      ID     Project          Cost    Status Gender     City  Age First Name  \\\n",
      "0   A001   Project 1  1.002000e+06  Finished      M    Paris   25       John   \n",
      "1   A002   Project 2  2.000000e+06   Ongoing      F   London   27      Alice   \n",
      "2   A003   Project 3  4.500000e+06  Finished      M   Berlin   29        Tom   \n",
      "3   A004   Project 4  5.500000e+06   Ongoing      F  Newyork   31       Nina   \n",
      "4   A005   Project 5  3.250500e+06  Finished      F   Madrid   30        Amy   \n",
      "5   A002   Project 6  6.800000e+05    Failed      F   London   27      Alice   \n",
      "6   A005   Project 7  4.000000e+05  Finished      F   Madrid   30        Amy   \n",
      "7   A003   Project 8  3.500000e+05    Failed      M   Berlin   29        Tom   \n",
      "8   A001   Project 9  2.061714e+06   Ongoing      M    Paris   25       John   \n",
      "9   A003  Project 10  3.000000e+05  Finished      M   Berlin   29        Tom   \n",
      "10  A001  Project 11  2.000000e+06    Failed      M    Paris   25       John   \n",
      "11  A004  Project 12  1.000000e+06   Ongoing      F  Newyork   31       Nina   \n",
      "12  A004  Project 13  3.000000e+06  Finished      F  Newyork   31       Nina   \n",
      "13  A005  Project 14  2.000000e+05  Finished      F   Madrid   30        Amy   \n",
      "\n",
      "    Last Name  Designation Level     Bonus  \n",
      "0       Alter                  2   50100.0  \n",
      "1   Luxumberg                  2       0.0  \n",
      "2   Sabestine                  3  225000.0  \n",
      "3       Adgra                  2       0.0  \n",
      "4       Johny                  3  162525.0  \n",
      "5   Luxumberg                  3       0.0  \n",
      "6       Johny                  3   20000.0  \n",
      "7   Sabestine                  4       0.0  \n",
      "8       Alter                  2       0.0  \n",
      "9   Sabestine                  3   15000.0  \n",
      "10      Alter                  3       0.0  \n",
      "11      Adgra                  2       0.0  \n",
      "12      Adgra                  2  150000.0  \n",
      "13      Johny                  3   10000.0  \n"
     ]
    }
   ],
   "source": [
    "final_df.loc[final_df[\"Status\"] == \"Failed\", \"Designation Level\"] += 1\n",
    "\n",
    "# Adjusting designation levels for failed projects.\n",
    "final_df = final_df[final_df[\"Designation Level\"] <= 4]\n",
    "\n",
    "print(\n",
    "    \"Employees with failed projects have been demoted, and those with a designation level above 4 have been removed:\"\n",
    "\n",
    ")\n",
    "print(final_df)\n"
   ]
  },
  {
   "cell_type": "markdown",
   "id": "ec898dbc",
   "metadata": {},
   "source": [
    "# Task 7"
   ]
  },
  {
   "cell_type": "code",
   "execution_count": null,
   "id": "cca26a6f",
   "metadata": {},
   "outputs": [
    {
     "name": "stdout",
     "output_type": "stream",
     "text": [
      "Salutations have been added to the 'First Name' column, and the 'Gender' column has been dropped:\n",
      "      ID     Project          Cost    Status     City  Age  First Name  \\\n",
      "0   A001   Project 1  1.002000e+06  Finished    Paris   25    Mr. John   \n",
      "1   A002   Project 2  2.000000e+06   Ongoing   London   27  Mrs. Alice   \n",
      "2   A003   Project 3  4.500000e+06  Finished   Berlin   29     Mr. Tom   \n",
      "3   A004   Project 4  5.500000e+06   Ongoing  Newyork   31   Mrs. Nina   \n",
      "4   A005   Project 5  3.250500e+06  Finished   Madrid   30    Mrs. Amy   \n",
      "5   A002   Project 6  6.800000e+05    Failed   London   27  Mrs. Alice   \n",
      "6   A005   Project 7  4.000000e+05  Finished   Madrid   30    Mrs. Amy   \n",
      "7   A003   Project 8  3.500000e+05    Failed   Berlin   29     Mr. Tom   \n",
      "8   A001   Project 9  2.061714e+06   Ongoing    Paris   25    Mr. John   \n",
      "9   A003  Project 10  3.000000e+05  Finished   Berlin   29     Mr. Tom   \n",
      "10  A001  Project 11  2.000000e+06    Failed    Paris   25    Mr. John   \n",
      "11  A004  Project 12  1.000000e+06   Ongoing  Newyork   31   Mrs. Nina   \n",
      "12  A004  Project 13  3.000000e+06  Finished  Newyork   31   Mrs. Nina   \n",
      "13  A005  Project 14  2.000000e+05  Finished   Madrid   30    Mrs. Amy   \n",
      "\n",
      "    Last Name  Designation Level     Bonus  \n",
      "0       Alter                  2   50100.0  \n",
      "1   Luxumberg                  2       0.0  \n",
      "2   Sabestine                  3  225000.0  \n",
      "3       Adgra                  2       0.0  \n",
      "4       Johny                  3  162525.0  \n",
      "5   Luxumberg                  3       0.0  \n",
      "6       Johny                  3   20000.0  \n",
      "7   Sabestine                  4       0.0  \n",
      "8       Alter                  2       0.0  \n",
      "9   Sabestine                  3   15000.0  \n",
      "10      Alter                  3       0.0  \n",
      "11      Adgra                  2       0.0  \n",
      "12      Adgra                  2  150000.0  \n",
      "13      Johny                  3   10000.0  \n"
     ]
    }
   ],
   "source": [
    "final_df[\"First Name\"] = final_df.apply(\n",
    "    lambda row: \"Mr. \" + row[\"First Name\"]\n",
    "\n",
    "    if row[\"Gender\"] == \"M\"\n",
    "    else \"Mrs. \" + row[\"First Name\"],\n",
    "    axis=1,\n",
    ")\n",
    "\n",
    "\n",
    "final_df = final_df.drop(columns=[\"Gender\"])\n",
    "# Dropping the gender column after adding salutations.\n",
    "\n",
    "print(\n",
    "    \"Salutations have been added to the 'First Name' column, and the 'Gender' column has been dropped:\"\n",
    ")\n",
    "#Dropping the gender column after adding salutations.\n",
    "print(final_df)\n"
   ]
  },
  {
   "cell_type": "markdown",
   "id": "3da4379e",
   "metadata": {},
   "source": [
    "# Task 8"
   ]
  },
  {
   "cell_type": "code",
   "execution_count": null,
   "id": "d0c76592",
   "metadata": {},
   "outputs": [
    {
     "name": "stdout",
     "output_type": "stream",
     "text": [
      "Employees older than 29 have been promoted:\n",
      "      ID     Project          Cost    Status     City  Age  First Name  \\\n",
      "0   A001   Project 1  1.002000e+06  Finished    Paris   25    Mr. John   \n",
      "1   A002   Project 2  2.000000e+06   Ongoing   London   27  Mrs. Alice   \n",
      "2   A003   Project 3  4.500000e+06  Finished   Berlin   29     Mr. Tom   \n",
      "3   A004   Project 4  5.500000e+06   Ongoing  Newyork   31   Mrs. Nina   \n",
      "4   A005   Project 5  3.250500e+06  Finished   Madrid   30    Mrs. Amy   \n",
      "5   A002   Project 6  6.800000e+05    Failed   London   27  Mrs. Alice   \n",
      "6   A005   Project 7  4.000000e+05  Finished   Madrid   30    Mrs. Amy   \n",
      "7   A003   Project 8  3.500000e+05    Failed   Berlin   29     Mr. Tom   \n",
      "8   A001   Project 9  2.061714e+06   Ongoing    Paris   25    Mr. John   \n",
      "9   A003  Project 10  3.000000e+05  Finished   Berlin   29     Mr. Tom   \n",
      "10  A001  Project 11  2.000000e+06    Failed    Paris   25    Mr. John   \n",
      "11  A004  Project 12  1.000000e+06   Ongoing  Newyork   31   Mrs. Nina   \n",
      "12  A004  Project 13  3.000000e+06  Finished  Newyork   31   Mrs. Nina   \n",
      "13  A005  Project 14  2.000000e+05  Finished   Madrid   30    Mrs. Amy   \n",
      "\n",
      "    Last Name  Designation Level     Bonus  \n",
      "0       Alter                  2   50100.0  \n",
      "1   Luxumberg                  2       0.0  \n",
      "2   Sabestine                  3  225000.0  \n",
      "3       Adgra                  1       0.0  \n",
      "4       Johny                  2  162525.0  \n",
      "5   Luxumberg                  3       0.0  \n",
      "6       Johny                  2   20000.0  \n",
      "7   Sabestine                  4       0.0  \n",
      "8       Alter                  2       0.0  \n",
      "9   Sabestine                  3   15000.0  \n",
      "10      Alter                  3       0.0  \n",
      "11      Adgra                  1       0.0  \n",
      "12      Adgra                  1  150000.0  \n",
      "13      Johny                  2   10000.0  \n"
     ]
    }
   ],
   "source": [
    "final_df.loc[final_df[\"Age\"] > 29, \"Designation Level\"] -= 1\n",
    "\n",
    "#  Promoting employees older than 29.\n",
    "print(\"Employees older than 29 have been promoted:\")\n",
    "print(final_df)"
   ]
  },
  {
   "cell_type": "markdown",
   "id": "547fed73",
   "metadata": {},
   "source": [
    "# Task 9"
   ]
  },
  {
   "cell_type": "code",
   "execution_count": null,
   "id": "565c3998",
   "metadata": {},
   "outputs": [
    {
     "name": "stdout",
     "output_type": "stream",
     "text": [
      "A 'TotalProjCost' dataframe has been created with the total project cost for each employee:\n",
      "     ID  First Name    Total Cost\n",
      "0  A001    Mr. John  5.063714e+06\n",
      "1  A002  Mrs. Alice  2.680000e+06\n",
      "2  A003     Mr. Tom  5.150000e+06\n",
      "3  A004   Mrs. Nina  9.500000e+06\n",
      "4  A005    Mrs. Amy  3.850500e+06\n"
     ]
    }
   ],
   "source": [
    "total_proj_cost_df = final_df.groupby([\"ID\", \"First Name\"])[\"Cost\"].sum().reset_index()\n",
    "total_proj_cost_df = total_proj_cost_df.rename(columns={\"Cost\": \"Total Cost\"})\n",
    "# Grouping by ID to calculate total cost per employee.\n",
    "\n",
    "print(\n",
    "    \"A 'TotalProjCost' dataframe has been created with the total project cost for each employee:\"\n",
    ")\n",
    "\n",
    "print(total_proj_cost_df)"
   ]
  },
  {
   "cell_type": "markdown",
   "id": "0bf11670",
   "metadata": {},
   "source": [
    "# Task 10"
   ]
  },
  {
   "cell_type": "code",
   "execution_count": null,
   "id": "fab45c4e",
   "metadata": {},
   "outputs": [
    {
     "name": "stdout",
     "output_type": "stream",
     "text": [
      "Employee details for cities with the letter 'o' in their name:\n",
      "      ID     Project       Cost    Status     City  Age  First Name  \\\n",
      "1   A002   Project 2  2000000.0   Ongoing   London   27  Mrs. Alice   \n",
      "3   A004   Project 4  5500000.0   Ongoing  Newyork   31   Mrs. Nina   \n",
      "5   A002   Project 6   680000.0    Failed   London   27  Mrs. Alice   \n",
      "11  A004  Project 12  1000000.0   Ongoing  Newyork   31   Mrs. Nina   \n",
      "12  A004  Project 13  3000000.0  Finished  Newyork   31   Mrs. Nina   \n",
      "\n",
      "    Last Name  Designation Level     Bonus  \n",
      "1   Luxumberg                  2       0.0  \n",
      "3       Adgra                  1       0.0  \n",
      "5   Luxumberg                  3       0.0  \n",
      "11      Adgra                  1       0.0  \n",
      "12      Adgra                  1  150000.0  \n"
     ]
    }
   ],
   "source": [
    "employees_in_o_cities = final_df[\n",
    "    final_df[\"City\"].str.contains(\"o\", case=False, na=False)\n",
    "# Filtering cities that contain the letter 'o'.\n",
    "]\n",
    "\n",
    "print(\"Employee details for cities with the letter 'o' in their name:\")\n",
    "print(employees_in_o_cities)\n"
   ]
  }
 ],
 "metadata": {
  "kernelspec": {
   "display_name": "Python 3",
   "language": "python",
   "name": "python3"
  },
  "language_info": {
   "codemirror_mode": {
    "name": "ipython",
    "version": 3
   },
   "file_extension": ".py",
   "mimetype": "text/x-python",
   "name": "python",
   "nbconvert_exporter": "python",
   "pygments_lexer": "ipython3",
   "version": "3.9.6"
  }
 },
 "nbformat": 4,
 "nbformat_minor": 5
}
